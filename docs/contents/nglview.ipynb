{
 "cells": [
  {
   "cell_type": "code",
   "execution_count": null,
   "metadata": {
    "editable": true,
    "slideshow": {
     "slide_type": ""
    },
    "tags": [
     "remove-input"
    ]
   },
   "outputs": [],
   "source": [
    "# This cell is removed with the tag: \"remove-input\"\n",
    "# As such, it will not be shown in documentation\n",
    "\n",
    "# import warnings\n",
    "# warnings.filterwarnings('ignore')"
   ]
  },
  {
   "cell_type": "markdown",
   "metadata": {
    "editable": true,
    "slideshow": {
     "slide_type": ""
    },
    "tags": []
   },
   "source": [
    "# Working with NGLView\n",
    "\n",
    "MolSysMT can handle nglview.NGLWidget objects in the same way that it handles other molecular systems. Therefore, any MolSysMT tool can accept NGLView views as input systems.\n",
    "\n",
    "## The nglview.NGLWidget as any other molecular system's form\n",
    "\n",
    "Before we show some examples of how MolSysMT works with NGLView native objects, let's create an nglview.NGLWidget to play with. Let's work with the demo system from NGLView:"
   ]
  },
  {
   "cell_type": "code",
   "execution_count": null,
   "metadata": {
    "editable": true,
    "slideshow": {
     "slide_type": ""
    },
    "tags": []
   },
   "outputs": [],
   "source": [
    "import molsysmt as msm\n",
    "import nglview as nv"
   ]
  },
  {
   "cell_type": "code",
   "execution_count": null,
   "metadata": {},
   "outputs": [],
   "source": [
    "view = nv.demo()"
   ]
  },
  {
   "cell_type": "code",
   "execution_count": null,
   "metadata": {},
   "outputs": [],
   "source": [
    "view"
   ]
  },
  {
   "cell_type": "markdown",
   "metadata": {},
   "source": [
    "Now that we have an nglview.NGLWidget object, let's see if MolSysMT can get an information summary of the molecular system straight from it as first test:"
   ]
  },
  {
   "cell_type": "code",
   "execution_count": null,
   "metadata": {
    "editable": true,
    "slideshow": {
     "slide_type": ""
    },
    "tags": []
   },
   "outputs": [],
   "source": [
    "msm.info(view)"
   ]
  },
  {
   "cell_type": "markdown",
   "metadata": {},
   "source": [
    "Attributes such as atom names, number of structures or atom coordinates can be retrieved with the function {func}`molsysmt.basic.get`:"
   ]
  },
  {
   "cell_type": "code",
   "execution_count": null,
   "metadata": {},
   "outputs": [],
   "source": [
    "msm.get(view, element='group', selection=[81, 82, 83], name=True)"
   ]
  },
  {
   "cell_type": "code",
   "execution_count": null,
   "metadata": {},
   "outputs": [],
   "source": [
    "msm.get(view, element='system', n_structures=True)"
   ]
  },
  {
   "cell_type": "code",
   "execution_count": null,
   "metadata": {},
   "outputs": [],
   "source": [
    "msm.get(view, element='atom', selection='atom_name==\"CA\"', coordinates=True)"
   ]
  },
  {
   "cell_type": "markdown",
   "metadata": {},
   "source": [
    "Element's selections can also be made on NGLView native objects with MolSysMT:"
   ]
  },
  {
   "cell_type": "code",
   "execution_count": null,
   "metadata": {},
   "outputs": [],
   "source": [
    "msm.select(view, selection='atom_name==\"CA\" and group_name==\"LYS\"')"
   ]
  },
  {
   "cell_type": "markdown",
   "metadata": {},
   "source": [
    "And in addition, MolSysMT can help you to get selection strings to be used in NGLView:"
   ]
  },
  {
   "cell_type": "code",
   "execution_count": null,
   "metadata": {},
   "outputs": [],
   "source": [
    "msm.select(view, selection='atom_name==\"CA\" and group_name==\"LYS\"', to_syntax='nglview')"
   ]
  },
  {
   "cell_type": "code",
   "execution_count": null,
   "metadata": {},
   "outputs": [],
   "source": [
    "msm.select(view, element='group', selection='group_name==\"LYS\"', to_syntax='nglview')"
   ]
  },
  {
   "cell_type": "markdown",
   "metadata": {},
   "source": [
    "Finally we can wonder, can MolSysMT convert an nglview.NGLWidget to other molecular system forms? Have a look to this couple of examples:"
   ]
  },
  {
   "cell_type": "code",
   "execution_count": null,
   "metadata": {},
   "outputs": [],
   "source": [
    "msm.convert(view, to_form='string:aminoacids3')"
   ]
  },
  {
   "cell_type": "code",
   "execution_count": null,
   "metadata": {},
   "outputs": [],
   "source": [
    "openmm_Topology = msm.convert(view, to_form='openmm.Topology')\n",
    "msm.info(openmm_Topology)"
   ]
  },
  {
   "cell_type": "markdown",
   "metadata": {},
   "source": [
    "\n",
    "Now that it has been demonstrated that MolSysMT recognizes nglview.NGLWidget objects as any other molecular form. Let's show a couple of examples more appealing than the previous cells."
   ]
  },
  {
   "cell_type": "markdown",
   "metadata": {},
   "source": [
    "## Example 1: Getting contact maps\n",
    "\n",
    "Given the visualization of a molecular dynamics trajectory, let's compute the contact maps between all alpha carbons from all frames.\n",
    "\n",
    "First, the view needs to be produced by NGLView. This let's do it straight with MolSysMT:"
   ]
  },
  {
   "cell_type": "code",
   "execution_count": null,
   "metadata": {},
   "outputs": [],
   "source": [
    "view = msm.convert([nv.datafiles.GRO, nv.datafiles.XTC], to_form='nglview.NGLWidget')"
   ]
  },
  {
   "cell_type": "markdown",
   "metadata": {},
   "source": [
    ":::{note}\n",
    "We could have used the function :func:`molsysmt.basic.view` instead also. Have a look to [User guide > Tools > Basic > View](../tools/basic/view.ipynb).\n",
    ":::"
   ]
  },
  {
   "cell_type": "code",
   "execution_count": null,
   "metadata": {},
   "outputs": [],
   "source": [
    "msm.info(view)"
   ]
  },
  {
   "cell_type": "markdown",
   "metadata": {},
   "source": [
    "Let's get the contact maps from the 51 structures with a 12 angstroms threshold:"
   ]
  },
  {
   "cell_type": "code",
   "execution_count": null,
   "metadata": {},
   "outputs": [],
   "source": [
    "contact_map = msm.structure.get_contacts(view, selection='molecule_type==\"protein\" and atom_name==\"CA\"', threshold='12 angstroms')"
   ]
  },
  {
   "cell_type": "markdown",
   "metadata": {},
   "source": [
    "Each contact map is a boolean matrix:"
   ]
  },
  {
   "cell_type": "code",
   "execution_count": null,
   "metadata": {},
   "outputs": [],
   "source": [
    "contact_map[10]"
   ]
  },
  {
   "cell_type": "markdown",
   "metadata": {},
   "source": [
    "We can make with Plotly an animated representation of these contact maps. But before, let's get the x and y ticks labels for our contacts:"
   ]
  },
  {
   "cell_type": "code",
   "execution_count": null,
   "metadata": {},
   "outputs": [],
   "source": [
    "CA_labels = msm.get_label(view, selection='molecule_type==\"protein\" and atom_name==\"CA\"', string='{group_name}-{group_id}')"
   ]
  },
  {
   "cell_type": "code",
   "execution_count": null,
   "metadata": {},
   "outputs": [],
   "source": [
    "CA_labels[10]"
   ]
  },
  {
   "cell_type": "code",
   "execution_count": null,
   "metadata": {
    "editable": true,
    "slideshow": {
     "slide_type": ""
    },
    "tags": [
     "remove-cell"
    ]
   },
   "outputs": [],
   "source": [
    "# This cell is skipped with the cell tag \"remove-cell\"\n",
    "\n",
    "#%matplotlib widget # This in the first cell of the notebook\n",
    "\n",
    "import matplotlib.pyplot as plt\n",
    "import matplotlib.animation as animation\n",
    "\n",
    "\n",
    "plt.rcParams[\"animation.html\"] = \"jshtml\"\n",
    "\n",
    "fig = plt.figure()\n",
    "\n",
    "structure_index = 0\n",
    "im = plt.imshow(contact_map[structure_index], cmap='Greys', origin='lower', animated=True)\n",
    "plt.xticks(range(0,contact_map.shape[1],25),CA_labels[::25], rotation=45)\n",
    "plt.yticks(range(0,contact_map.shape[1],25),CA_labels[::25], rotation=45)\n",
    "\n",
    "def updatefig(ii):\n",
    "    global structure_index, contact_map\n",
    "    structure_index = ii\n",
    "    im.set_array(contact_map[structure_index])\n",
    "    return im,\n",
    "\n",
    "ani = animation.FuncAnimation(fig, updatefig, frames=contact_map.shape[0], blit=True, repeat=True)\n",
    "#plt.show()\n",
    "plt.close()\n",
    "ani"
   ]
  },
  {
   "cell_type": "markdown",
   "metadata": {},
   "source": [
    "Time to show how the CA contacts evolves:"
   ]
  },
  {
   "cell_type": "code",
   "execution_count": null,
   "metadata": {},
   "outputs": [],
   "source": [
    "import plotly.express as px\n",
    "\n",
    "fig = px.imshow(~contact_map, animation_frame=0, binary_string=True, height=600, origin='lower')\n",
    "\n",
    "fig.update_layout(\n",
    "    xaxis = dict(\n",
    "        tickmode = 'array',\n",
    "        tickvals = list(range(0,contact_map.shape[1],25)),\n",
    "        ticktext = CA_labels[::25],\n",
    "        tickangle = 45\n",
    "    ),\n",
    "    yaxis = dict(\n",
    "        tickmode = 'array',\n",
    "        tickvals = list(range(0,contact_map.shape[1],25)),\n",
    "        ticktext = CA_labels[::25],\n",
    "        tickangle = 45\n",
    "    )\n",
    ")\n",
    "\n",
    "fig.show()"
   ]
  },
  {
   "cell_type": "markdown",
   "metadata": {},
   "source": [
    "## Example 2: Getting distances between geometric centers\n",
    "\n",
    "As second example let's suppose we have two peptides:"
   ]
  },
  {
   "cell_type": "code",
   "execution_count": null,
   "metadata": {},
   "outputs": [],
   "source": [
    "molsys_A = msm.build.build_peptide('AceAlaNME')\n",
    "molsys_B = msm.build.build_peptide('AceProNME')\n",
    "molsys_B = msm.structure.translate(molsys_B, translation='[1.0, 0.0, 0.0] nm')"
   ]
  },
  {
   "cell_type": "markdown",
   "metadata": {},
   "source": [
    "But each peptide has its own visualization. Notice that this time the views are produced with a different approach than before:"
   ]
  },
  {
   "cell_type": "code",
   "execution_count": null,
   "metadata": {},
   "outputs": [],
   "source": [
    "view1 = nv.show_molsysmt(molsys_A)\n",
    "view2 = nv.show_molsysmt(molsys_B)"
   ]
  },
  {
   "cell_type": "code",
   "execution_count": null,
   "metadata": {},
   "outputs": [],
   "source": [
    "msm.info(view1)"
   ]
  },
  {
   "cell_type": "code",
   "execution_count": null,
   "metadata": {},
   "outputs": [],
   "source": [
    "msm.info(view2)"
   ]
  },
  {
   "cell_type": "markdown",
   "metadata": {},
   "source": [
    "If we are interested in the distance between the geometrical center of each peptide, we can merge the views in a new one to extract the observable from a unique molecular system:"
   ]
  },
  {
   "cell_type": "code",
   "execution_count": null,
   "metadata": {},
   "outputs": [],
   "source": [
    "view = msm.merge([view1, view2])"
   ]
  },
  {
   "cell_type": "code",
   "execution_count": null,
   "metadata": {},
   "outputs": [],
   "source": [
    "view.clear()\n",
    "view.add_licorice()\n",
    "view"
   ]
  },
  {
   "cell_type": "code",
   "execution_count": null,
   "metadata": {},
   "outputs": [],
   "source": [
    "msm.structure.get_distances(view, selection='molecule_index==0', selection_2='molecule_index==1',\n",
    "                            group_behavior='geometric center', group_behavior_2='geometric center')"
   ]
  },
  {
   "cell_type": "markdown",
   "metadata": {},
   "source": [
    "It can be proved looking at the geometric centers that the distance is correct:"
   ]
  },
  {
   "cell_type": "code",
   "execution_count": null,
   "metadata": {},
   "outputs": [],
   "source": [
    "msm.structure.get_geometric_center(view, selection='molecule_index==0')"
   ]
  },
  {
   "cell_type": "code",
   "execution_count": null,
   "metadata": {},
   "outputs": [],
   "source": [
    "msm.structure.get_geometric_center(view, selection='molecule_index==1')"
   ]
  },
  {
   "cell_type": "markdown",
   "metadata": {},
   "source": [
    "Or we can do it from both views, without merging them in a new one:"
   ]
  },
  {
   "cell_type": "code",
   "execution_count": null,
   "metadata": {},
   "outputs": [],
   "source": [
    "msm.structure.get_distances(view1, group_behavior='geometric center',\n",
    "                            molecular_system_2=view2, group_behavior_2='geometric center')"
   ]
  },
  {
   "cell_type": "markdown",
   "metadata": {},
   "source": [
    ":::{seealso}\n",
    "[User guide > Tools > Basic > Info](info.ipynb): Printing out summary information of a molecular system.    \n",
    "[User guide > Tools > Basic > Get](get.ipynb):     \n",
    "[User guide > Tools > Basic > Select](select.ipynb):     \n",
    "[User guide > Tools > Basic > View](view.ipynb): Showing a molecular system.    \n",
    "[User guide > Tools > Basic > Merge](merge.ipynb): Merging the elements of different molecular systems.    \n",
    "[User guide > Tools > Build > Build peptide](../build/build_peptide.ipynb):    \n",
    "[User guide > Tools > Structure > Translate](../structure/translate.ipynb):    \n",
    "[User guide > Tools > Structure > Get distances](../structure/get_distances.ipynb):    \n",
    "[User guide > Tools > Structure > Get geometric center](../structure/get_geometric_center.ipynb):    \n",
    ":::"
   ]
  }
 ],
 "metadata": {
  "kernelspec": {
   "display_name": "Python 3 (ipykernel)",
   "language": "python",
   "name": "python3"
  },
  "language_info": {
   "codemirror_mode": {
    "name": "ipython",
    "version": 3
   },
   "file_extension": ".py",
   "mimetype": "text/x-python",
   "name": "python",
   "nbconvert_exporter": "python",
   "pygments_lexer": "ipython3",
   "version": "3.10.11"
  }
 },
 "nbformat": 4,
 "nbformat_minor": 4
}
